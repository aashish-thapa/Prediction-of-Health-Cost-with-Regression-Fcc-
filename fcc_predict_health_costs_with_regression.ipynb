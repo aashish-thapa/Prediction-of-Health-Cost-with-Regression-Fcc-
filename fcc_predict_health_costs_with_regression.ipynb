{
  "cells": [
    {
      "cell_type": "code",
      "execution_count": null,
      "metadata": {
        "id": "1rRo8oNqZ-Rj"
      },
      "outputs": [],
      "source": [
        "# Import libraries. You may or may not use all of these.\n",
        "!pip install -q git+https://github.com/tensorflow/docs\n",
        "import matplotlib.pyplot as plt\n",
        "import numpy as np\n",
        "import pandas as pd\n",
        "from sklearn.model_selection import train_test_split\n",
        "\n",
        "try:\n",
        "  # %tensorflow_version only exists in Colab.\n",
        "  %tensorflow_version 2.x\n",
        "except Exception:\n",
        "  pass\n",
        "import tensorflow as tf\n",
        "\n",
        "from tensorflow.keras.models import Sequential\n",
        "from tensorflow.keras.layers import Dense, Activation\n",
        "from tensorflow.keras.callbacks import EarlyStopping\n",
        "\n",
        "import tensorflow_docs as tfdocs\n",
        "import tensorflow_docs.plots\n",
        "import tensorflow_docs.modeling"
      ]
    },
    {
      "cell_type": "code",
      "execution_count": null,
      "metadata": {
        "id": "CiX2FI4gZtTt"
      },
      "outputs": [],
      "source": [
        "# Import data\n",
        "!wget https://cdn.freecodecamp.org/project-data/health-costs/insurance.csv\n",
        "dataset = pd.read_csv('insurance.csv')\n",
        "dataset.tail()"
      ]
    },
    {
      "cell_type": "code",
      "execution_count": null,
      "metadata": {
        "id": "LcopvQh3X-kX"
      },
      "outputs": [],
      "source": [
        "# Generate dummies for sex\n",
        "dataset = pd.concat([dataset,pd.get_dummies(dataset['sex'],prefix=\"sex\")],axis=1)\n",
        "dataset.drop('sex', axis=1, inplace=True)\n",
        "\n",
        "# Generate dummies for smoker\n",
        "dataset = pd.concat([dataset,pd.get_dummies(dataset['smoker'],prefix=\"smoker\")],axis=1)\n",
        "dataset.drop('smoker', axis=1, inplace=True)\n",
        "\n",
        "# Generate dummies for region\n",
        "dataset = pd.concat([dataset,pd.get_dummies(dataset['region'],prefix=\"region\")],axis=1)\n",
        "dataset.drop('region', axis=1, inplace=True)\n",
        "dataset"
      ]
    },
    {
      "cell_type": "code",
      "source": [
        "x_columns = dataset.columns.drop('expenses')\n",
        "x = dataset[x_columns].values\n",
        "y = dataset['expenses'].values\n",
        ""
      ],
      "metadata": {
        "id": "Wrwz0udsEmgN"
      },
      "execution_count": null,
      "outputs": []
    },
    {
      "cell_type": "code",
      "source": [
        "from sklearn.model_selection import train_test_split\n",
        "train_dataset, test_dataset, train_labels, test_labels = train_test_split(x, y, train_size=0.8)\n",
        "import numpy as np\n",
        "\n",
        "train_dataset = np.array(train_dataset, dtype=np.float32)\n",
        "train_labels = np.array(train_labels, dtype=np.float32)\n",
        "test_dataset = np.array(test_dataset, dtype=np.float32)\n",
        "test_labels = np.array(test_labels, dtype=np.float32)\n"
      ],
      "metadata": {
        "id": "-oXmtECnEuLE"
      },
      "execution_count": null,
      "outputs": []
    },
    {
      "cell_type": "code",
      "source": [
        "from keras.models import Sequential\n",
        "from keras.layers import Dense\n",
        "from keras.callbacks import EarlyStopping\n",
        "\n",
        "# Define the neural network\n",
        "model = Sequential()\n",
        "model.add(Dense(50, input_dim=train_dataset.shape[1], activation='relu'))  # Input layer with 50 neurons\n",
        "model.add(Dense(25, activation='relu'))  # Hidden layer with 25 neurons\n",
        "model.add(Dense(1))  # Output layer with 1 neuron\n",
        "\n",
        "# Compile the model\n",
        "model.compile(\n",
        "    loss='mean_absolute_error',\n",
        "    metrics=[\"mean_absolute_error\", \"mean_squared_error\"],\n",
        "    optimizer='adam'\n",
        ")\n",
        "\n",
        "# Early stopping callback\n",
        "monitor = EarlyStopping(\n",
        "    monitor='val_loss',\n",
        "    min_delta=1e-3,\n",
        "    patience=10,\n",
        "    verbose=1,\n",
        "    mode='auto',\n",
        "    restore_best_weights=True\n",
        ")\n",
        "\n",
        "# Train the model\n",
        "model.fit(\n",
        "    train_dataset,\n",
        "    train_labels,\n",
        "    validation_data=(test_dataset, test_labels),\n",
        "    callbacks=[monitor],\n",
        "    verbose=2,\n",
        "    epochs=10000\n",
        ")\n"
      ],
      "metadata": {
        "id": "5CBI6b8jEv_E"
      },
      "execution_count": null,
      "outputs": []
    },
    {
      "cell_type": "code",
      "execution_count": null,
      "metadata": {
        "id": "Xe7RXH3N3CWU"
      },
      "outputs": [],
      "source": [
        "# RUN THIS CELL TO TEST YOUR MODEL. DO NOT MODIFY CONTENTS.\n",
        "# Test model by checking how well the model generalizes using the test set.\n",
        "loss, mae, mse = model.evaluate(test_dataset, test_labels, verbose=2)\n",
        "\n",
        "print(\"Testing set Mean Abs Error: {:5.2f} expenses\".format(mae))\n",
        "\n",
        "if mae < 3500:\n",
        "  print(\"You passed the challenge. Great job!\")\n",
        "else:\n",
        "  print(\"The Mean Abs Error must be less than 3500. Keep trying.\")\n",
        "\n",
        "# Plot predictions.\n",
        "test_predictions = model.predict(test_dataset).flatten()\n",
        "\n",
        "a = plt.axes(aspect='equal')\n",
        "plt.scatter(test_labels, test_predictions)\n",
        "plt.xlabel('True values (expenses)')\n",
        "plt.ylabel('Predictions (expenses)')\n",
        "lims = [0, 50000]\n",
        "plt.xlim(lims)\n",
        "plt.ylim(lims)\n",
        "_ = plt.plot(lims,lims)\n"
      ]
    }
  ],
  "metadata": {
    "colab": {
      "name": "fcc_predict_health_costs_with_regression.ipynb",
      "private_outputs": true,
      "provenance": [],
      "gpuType": "T4"
    },
    "kernelspec": {
      "display_name": "Python 3",
      "name": "python3"
    },
    "accelerator": "GPU"
  },
  "nbformat": 4,
  "nbformat_minor": 0
}